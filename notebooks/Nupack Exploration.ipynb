{
 "cells": [
  {
   "cell_type": "code",
   "execution_count": 126,
   "metadata": {
    "is_executing": true
   },
   "outputs": [],
   "source": [
    "from nupack import *"
   ]
  },
  {
   "cell_type": "code",
   "execution_count": 127,
   "metadata": {
    "collapsed": false,
    "is_executing": true,
    "jupyter": {
     "outputs_hidden": false
    }
   },
   "outputs": [],
   "source": [
    "model = Model(material='dna', celsius=37, sodium=0.5, magnesium=0.1)"
   ]
  },
  {
   "cell_type": "code",
   "execution_count": 128,
   "metadata": {
    "collapsed": false,
    "jupyter": {
     "outputs_hidden": false
    }
   },
   "outputs": [
    {
     "data": {
      "text/plain": [
       "<nupack.model.Model at 0x1324fbdc0>"
      ]
     },
     "execution_count": 128,
     "metadata": {},
     "output_type": "execute_result"
    }
   ],
   "source": [
    "model"
   ]
  },
  {
   "cell_type": "code",
   "execution_count": null,
   "metadata": {
    "collapsed": false,
    "jupyter": {
     "outputs_hidden": false
    }
   },
   "outputs": [],
   "source": [
    "# Define sequence domains\n",
    "dx = Domain('N16', name='dx')\n",
    "dx1m = Domain('N16', name='dx1m')\n",
    "dx2m = Domain('N16', name='dx2m')\n",
    "dy1 = Domain('N16', name='dy1')\n",
    "dy2 = Domain('N16', name='dy2')\n",
    "dw = Domain('N16', name='dw')\n",
    "\n",
    "# Define strands containing these domains\n",
    "sx = TargetStrand([dx], name='sx')\n",
    "sx1m = TargetStrand([dx1m], name='sx1m')\n",
    "sx2m = TargetStrand([dx2m], name='sx2m')\n",
    "sy1 = TargetStrand([dy1], name='sy1')\n",
    "sy2 = TargetStrand([dy2], name='sy2')\n",
    "sw = TargetStrand([dw], name='sw')\n",
    "base1 = TargetStrand([~dy1, ~dx],  name='base1')\n",
    "base2 = TargetStrand([~dy2, ~dx1m], name='base2')\n",
    "base3 = TargetStrand([~dw, ~dx2m], name='base3')\n",
    "\n",
    "\n",
    "C1 = TargetComplex([base1, sy1], 'D16(U16+)', name='C1')\n",
    "C2 = TargetComplex([base2, sy2], 'D16(U16+)', name='C2')\n",
    "C3 = TargetComplex([base3, sw], 'D16(U16+)', name='C3')\n",
    "cx = TargetComplex([sx], 'U16', name='cx')\n",
    "cx1m = TargetComplex([sx1m], 'U16', name='cx1m')\n",
    "cx2m = TargetComplex([sx2m], 'U16', name='cx2m')\n",
    "cy1 = TargetComplex([sy1], 'U16', name='cy1')\n",
    "cy2 = TargetComplex([sy2], 'U16', name='cy2')\n",
    "cw = TargetComplex([sw], 'U16', name='cw')\n",
    "\n",
    "# Hard constraints\n",
    "d_8_3 = Diversity(word=8, types=3)\n",
    "d_10_4 = Diversity(word=10, types=3)\n",
    "p_4 = Pattern(['A4', 'G4', 'C4', 'T4'])\n",
    "\n",
    "ssm4 = SSM(word=6, weight=0.5)\n",
    "diff1 = EnergyMatch([dx, dx1m, dx2m])\n",
    "diff2 = EnergyMatch([dy1, dy2])\n",
    "\n",
    "t1 = TargetTube(on_targets={cx: 1e-7, cx1m: 1e-7, cx2m: 1e-7, cy1: 1e-7, cy2: 1e-7, cw: 1e-7, C1:1e-7, C2: 1e-7, C3: 1e-7}, name='t1',\n",
    "               off_targets=SetSpec(max_size=3, exclude=[[base1,sx,sy1], [base2,sx1m,sy2], [base3,sx2m,sw], [base1,sx], [base2,sx1m], [base3,sx2m]]))\n",
    "t2 = TargetTube(on_targets={cx: 1e-7, cx1m: 1e-7, cx2m: 1e-7, cy1: 1e-7, cy2: 1e-7, cw: 1e-7}, name='t2',\n",
    "                off_targets=SetSpec(max_size=2))\n",
    "\n",
    "# Set a stop condition of 1% and a seed for random number generation to get a reproducible result for this demo\n",
    "my_options = DesignOptions(f_stop=0.01, seed=93)\n",
    "\n",
    "# Define and run the test tube design job\n",
    "my_design = tube_design(tubes=[t1], model=model, options=my_options, hard_constraints=[d_8_3, d_10_4, p_4], soft_constraints=[diff1, diff2, ssm4])\n",
    "my_results = my_design.run(trials=3)[0]\n",
    "\n",
    "# Display the design results\n",
    "my_results"
   ]
  },
  {
   "cell_type": "code",
   "execution_count": null,
   "metadata": {},
   "outputs": [],
   "source": [
    "strands = list(my_results.to_analysis.strands.values())\n",
    "keys = list(my_results.to_analysis.strands.keys())"
   ]
  },
  {
   "cell_type": "code",
   "execution_count": null,
   "metadata": {},
   "outputs": [],
   "source": [
    "data = {}\n",
    "for strand in strands:\n",
    "    data[strand] = 1e-7\n",
    "\n",
    "an1 = Tube(strands=data, complexes=SetSpec(max_size=2), name='an1')"
   ]
  },
  {
   "cell_type": "code",
   "execution_count": null,
   "metadata": {},
   "outputs": [],
   "source": [
    "tube_results = tube_analysis(tubes=[an1], model=model)"
   ]
  },
  {
   "cell_type": "code",
   "execution_count": null,
   "metadata": {},
   "outputs": [],
   "source": [
    "tube_results"
   ]
  },
  {
   "cell_type": "code",
   "execution_count": null,
   "metadata": {},
   "outputs": [],
   "source": [
    "domains = my_results.to_analysis.domains\n",
    "for k,v in domains.items():\n",
    "    print(k.name,v)"
   ]
  },
  {
   "cell_type": "code",
   "execution_count": null,
   "metadata": {},
   "outputs": [],
   "source": [
    "strands = my_results.to_analysis.strands\n",
    "for k,v in strands.items():\n",
    "    print(k.name,v)"
   ]
  },
  {
   "cell_type": "code",
   "execution_count": null,
   "metadata": {},
   "outputs": [],
   "source": []
  }
 ],
 "metadata": {
  "kernelspec": {
   "display_name": "Python 3 (ipykernel)",
   "language": "python",
   "name": "python3"
  },
  "language_info": {
   "codemirror_mode": {
    "name": "ipython",
    "version": 3
   },
   "file_extension": ".py",
   "mimetype": "text/x-python",
   "name": "python",
   "nbconvert_exporter": "python",
   "pygments_lexer": "ipython3",
   "version": "3.10.14"
  }
 },
 "nbformat": 4,
 "nbformat_minor": 4
}
